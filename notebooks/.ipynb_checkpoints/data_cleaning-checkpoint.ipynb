{
 "cells": [
  {
   "cell_type": "code",
   "execution_count": 411,
   "id": "319aefa9-664d-4968-bc00-4e4a8a618249",
   "metadata": {},
   "outputs": [],
   "source": [
    "import pandas as pd\n",
    "import datetime as dt\n",
    "import re\n",
    "import addfips"
   ]
  },
  {
   "cell_type": "code",
   "execution_count": 412,
   "id": "288727d1-21c1-4e4d-9219-8ecd61b7fe6a",
   "metadata": {},
   "outputs": [
    {
     "data": {
      "text/html": [
       "<div>\n",
       "<style scoped>\n",
       "    .dataframe tbody tr th:only-of-type {\n",
       "        vertical-align: middle;\n",
       "    }\n",
       "\n",
       "    .dataframe tbody tr th {\n",
       "        vertical-align: top;\n",
       "    }\n",
       "\n",
       "    .dataframe thead th {\n",
       "        text-align: right;\n",
       "    }\n",
       "</style>\n",
       "<table border=\"1\" class=\"dataframe\">\n",
       "  <thead>\n",
       "    <tr style=\"text-align: right;\">\n",
       "      <th></th>\n",
       "      <th>county</th>\n",
       "      <th>gallons_from_great_lakes</th>\n",
       "      <th>gallons_from_groundwater</th>\n",
       "      <th>gallons_from_inland_surface</th>\n",
       "      <th>total_gallons_all_sources</th>\n",
       "      <th>industry</th>\n",
       "      <th>year</th>\n",
       "    </tr>\n",
       "  </thead>\n",
       "  <tbody>\n",
       "    <tr>\n",
       "      <th>0</th>\n",
       "      <td>Alcona</td>\n",
       "      <td>0</td>\n",
       "      <td>2666085962</td>\n",
       "      <td>4695086047</td>\n",
       "      <td>7361172009</td>\n",
       "      <td>Total All Sectors</td>\n",
       "      <td>2014</td>\n",
       "    </tr>\n",
       "    <tr>\n",
       "      <th>1</th>\n",
       "      <td>Alger</td>\n",
       "      <td>1512160000</td>\n",
       "      <td>1608226431</td>\n",
       "      <td>799089999</td>\n",
       "      <td>3919476431</td>\n",
       "      <td>Total All Sectors</td>\n",
       "      <td>2014</td>\n",
       "    </tr>\n",
       "    <tr>\n",
       "      <th>2</th>\n",
       "      <td>Allegan</td>\n",
       "      <td>0</td>\n",
       "      <td>5552539983</td>\n",
       "      <td>3784550040</td>\n",
       "      <td>9337090023</td>\n",
       "      <td>Total All Sectors</td>\n",
       "      <td>2014</td>\n",
       "    </tr>\n",
       "    <tr>\n",
       "      <th>3</th>\n",
       "      <td>Alpena</td>\n",
       "      <td>40839120000</td>\n",
       "      <td>10948600250</td>\n",
       "      <td>2532270000</td>\n",
       "      <td>54319990250</td>\n",
       "      <td>Total All Sectors</td>\n",
       "      <td>2014</td>\n",
       "    </tr>\n",
       "    <tr>\n",
       "      <th>4</th>\n",
       "      <td>Antrim</td>\n",
       "      <td>0</td>\n",
       "      <td>12214548686</td>\n",
       "      <td>54526097</td>\n",
       "      <td>12269074783</td>\n",
       "      <td>Total All Sectors</td>\n",
       "      <td>2014</td>\n",
       "    </tr>\n",
       "  </tbody>\n",
       "</table>\n",
       "</div>"
      ],
      "text/plain": [
       "    county  gallons_from_great_lakes  gallons_from_groundwater  \\\n",
       "0   Alcona                         0                2666085962   \n",
       "1    Alger                1512160000                1608226431   \n",
       "2  Allegan                         0                5552539983   \n",
       "3   Alpena               40839120000               10948600250   \n",
       "4   Antrim                         0               12214548686   \n",
       "\n",
       "   gallons_from_inland_surface  total_gallons_all_sources           industry  \\\n",
       "0                   4695086047                 7361172009  Total All Sectors   \n",
       "1                    799089999                 3919476431  Total All Sectors   \n",
       "2                   3784550040                 9337090023  Total All Sectors   \n",
       "3                   2532270000                54319990250  Total All Sectors   \n",
       "4                     54526097                12269074783  Total All Sectors   \n",
       "\n",
       "   year  \n",
       "0  2014  \n",
       "1  2014  \n",
       "2  2014  \n",
       "3  2014  \n",
       "4  2014  "
      ]
     },
     "execution_count": 412,
     "metadata": {},
     "output_type": "execute_result"
    }
   ],
   "source": [
    "\"https://www.kaggle.com/datasets/oleksiimartusiuk/michigan-water-use-data-2013-to-2022\"\n",
    "\n",
    "path = \"../data/raw/water_use_data_2013_to_2022.csv\"\n",
    "df = pd.read_csv(path)\n",
    "df.drop(columns=\"Unnamed: 0\", inplace=True)\n",
    "df.head()"
   ]
  },
  {
   "cell_type": "code",
   "execution_count": 413,
   "id": "c9c30360-d754-4c1c-b7c5-2297ef41b5db",
   "metadata": {},
   "outputs": [
    {
     "data": {
      "text/plain": [
       "(6630, 7)"
      ]
     },
     "execution_count": 413,
     "metadata": {},
     "output_type": "execute_result"
    }
   ],
   "source": [
    "df.shape"
   ]
  },
  {
   "cell_type": "code",
   "execution_count": 414,
   "id": "e29cb647-b483-4686-9203-00fa90b1710b",
   "metadata": {},
   "outputs": [
    {
     "data": {
      "text/plain": [
       "Index(['county', 'gallons_from_great_lakes', 'gallons_from_groundwater',\n",
       "       'gallons_from_inland_surface', 'total_gallons_all_sources', 'industry',\n",
       "       'year'],\n",
       "      dtype='object')"
      ]
     },
     "execution_count": 414,
     "metadata": {},
     "output_type": "execute_result"
    }
   ],
   "source": [
    "df.columns"
   ]
  },
  {
   "cell_type": "code",
   "execution_count": 415,
   "id": "3288035d-5907-4a5c-80af-513e30cc7702",
   "metadata": {},
   "outputs": [
    {
     "data": {
      "text/plain": [
       "county                         0\n",
       "gallons_from_great_lakes       0\n",
       "gallons_from_groundwater       0\n",
       "gallons_from_inland_surface    0\n",
       "total_gallons_all_sources      0\n",
       "industry                       0\n",
       "year                           0\n",
       "dtype: int64"
      ]
     },
     "execution_count": 415,
     "metadata": {},
     "output_type": "execute_result"
    }
   ],
   "source": [
    "df.isna().sum()"
   ]
  },
  {
   "cell_type": "code",
   "execution_count": 416,
   "id": "c556b2e5-1f6a-4933-9b3d-0fbfdd81dfaa",
   "metadata": {},
   "outputs": [
    {
     "data": {
      "text/plain": [
       "county                           85\n",
       "gallons_from_great_lakes        725\n",
       "gallons_from_groundwater       4328\n",
       "gallons_from_inland_surface    1952\n",
       "total_gallons_all_sources      4646\n",
       "industry                          8\n",
       "year                             10\n",
       "dtype: int64"
      ]
     },
     "execution_count": 416,
     "metadata": {},
     "output_type": "execute_result"
    }
   ],
   "source": [
    "df.nunique()"
   ]
  },
  {
   "cell_type": "code",
   "execution_count": 417,
   "id": "ae99e6c9-5b89-455f-abbe-d7921923d1f3",
   "metadata": {},
   "outputs": [
    {
     "data": {
      "text/plain": [
       "array(['Total All Sectors', 'Commercial-Institutional',\n",
       "       'Electric Power Generation', 'Industrial-Manufacturing',\n",
       "       'Irrigation', 'Livestock', 'Other', 'Public Water Supply'],\n",
       "      dtype=object)"
      ]
     },
     "execution_count": 417,
     "metadata": {},
     "output_type": "execute_result"
    }
   ],
   "source": [
    "df.industry.unique()"
   ]
  },
  {
   "cell_type": "code",
   "execution_count": 418,
   "id": "0aa28331-ba56-434e-8a78-7bcdc93ae442",
   "metadata": {},
   "outputs": [
    {
     "data": {
      "text/plain": [
       "array(['Alcona', 'Alger', 'Allegan', 'Alpena', 'Antrim', 'Arenac',\n",
       "       'Baraga', 'Barry', 'Bay', 'Benzie', 'Berrien', 'Branch', 'Calhoun',\n",
       "       'Cass', 'Charlevoix', 'Cheboygan', 'Chippewa', 'Clare', 'Clinton',\n",
       "       'Crawford', 'Delta', 'Dickinson', 'Eaton', 'Emmet', 'Genesee',\n",
       "       'Gladwin', 'Gogebic', 'Grand Traverse', 'Gratiot', 'Hillsdale',\n",
       "       'Houghton', 'Huron', 'Ingham', 'Ionia', 'Iosco', 'Iron',\n",
       "       'Isabella', 'Jackson', 'Kalamazoo', 'Kalkaska', 'Kent', 'Keweenaw',\n",
       "       'Lake', 'Lapeer', 'Leelanau', 'Lenawee', 'Livingston', 'Luce',\n",
       "       'Mackinac', 'Macomb', 'Manistee', 'Marquette', 'Mason', 'Mecosta',\n",
       "       'Menominee', 'Midland', 'Missaukee', 'Monroe', 'Montcalm',\n",
       "       'Montmorency', 'Muskegon', 'Newaygo', 'Oakland', 'Oceana',\n",
       "       'Ogemaw', 'Ontonagon', 'Osceola', 'Oscoda', 'Otsego', 'Ottawa',\n",
       "       'Presque Isle', 'Roscommon', 'Saginaw', 'Saint Clair',\n",
       "       'Saint Joseph', 'Sanilac', 'Schoolcraft', 'Shiawassee', 'Tuscola',\n",
       "       'Van Buren', 'Washtenaw', 'Wayne', 'Wexford', 'St Clair',\n",
       "       'St Joseph'], dtype=object)"
      ]
     },
     "execution_count": 418,
     "metadata": {},
     "output_type": "execute_result"
    }
   ],
   "source": [
    "df.county.unique()"
   ]
  },
  {
   "cell_type": "code",
   "execution_count": 419,
   "id": "f1d34c8f-029c-4413-b5ad-8658ffeea2b3",
   "metadata": {},
   "outputs": [],
   "source": [
    "def remove_whitespace_from_column_names(df):\n",
    "  # Remove leading and trailing spaces from column names\n",
    "  df2 = df.copy()\n",
    "  df2.columns = [column.strip() for column in df2.columns]\n",
    "  return df2\n",
    "\n",
    "def trim_and_lower(df):\n",
    "  df2 = df.copy()\n",
    "  df2.columns = [column.strip() for column in df2.columns]\n",
    "  df2.columns = [column.strip().replace(\" \", \"_\").lower() for column in df2.columns]\n",
    "  df2 = df2.map(lambda x: x.replace(\"\\xa0\", \" \") if isinstance(x, str) else x)\n",
    "  df2 = df2.map(lambda x: x.strip() if isinstance(x, str) else x)\n",
    "\n",
    "  return df2\n",
    "\n",
    "def gallons_to_megalitres(columns, df):\n",
    "    df2 = df.copy()\n",
    "    for col in columns:\n",
    "        if col in df2.columns:\n",
    "            df2[col] = (df2[col] / 264200).astype('int')\n",
    "    return df2\n",
    "\n",
    "def rename_columns(columns, df):\n",
    "    df2 = df.copy()\n",
    "    df2.columns = [col.replace(\"gallons\", \"megalitres\") for col in df2.columns]\n",
    "    return df2\n",
    "\n",
    "def cleaning_function(df, columns):\n",
    "    df2 = df.copy()\n",
    "    df2 = remove_whitespace_from_column_names(df2)\n",
    "    df2 = trim_and_lower(df2)\n",
    "    df2 = remove_whitespace_from_column_names(df2)\n",
    "    df2 = gallons_to_megalitres(columns, df2)\n",
    "    df2 = rename_columns(columns, df2)\n",
    "    df2[\"county\"] = df2[\"county\"].apply(lambda x: \"Saint Clair\" if x == \"St Clair\" else \"Saint Joseph\" if x == \"St Joseph\" else x)\n",
    "    return df2\n",
    "\n",
    "def pc_of_total(df, numerator_cols, denominator_col):\n",
    "    df2 = df.copy()\n",
    "    for col in numerator_cols:\n",
    "        df2[col + \"_pc\"] = round((df2[col] / df2[denominator_col] * 100), 2).fillna(0)\n",
    "    return df2\n",
    "\n",
    "def main_water_source(df, cols):\n",
    "    df2 = df.copy()\n",
    "    df2[\"main_source\"] = df2[cols].idxmax(axis=1).str.replace(\"megalitres_from_\", \"\").str.replace(\"_\", \" \").str.title()\n",
    "    return df2\n",
    "\n",
    "def fix_missing_fips(row):\n",
    "    if pd.isna(row[\"fips\"]):\n",
    "        if row[\"county\"] == \"Keweenaw\":\n",
    "            row[\"fips\"] = \"026083\"\n",
    "        elif row[\"county\"] == \"Lake\":\n",
    "            row[\"fips\"] = \"026085\"\n",
    "    return row\n",
    "\n",
    "def get_fips_codes(df):\n",
    "    df2 = df.copy()\n",
    "    af = addfips.AddFIPS()\n",
    "    df2[\"fips\"] = [af.get_county_fips(county=county, state='Michigan') for county in df_final[\"county\"]]\n",
    "    return df2\n",
    "\n",
    "def add_new_cols(df, numerator_cols, denominator_col):\n",
    "    df2 = df.copy()\n",
    "    df2 = pc_of_total(df2, numerator_cols, denominator_col)\n",
    "    df2 = main_water_source(df2, numerator_cols)\n",
    "    #df2 = get_fips_codes(df2)\n",
    "    return df2"
   ]
  },
  {
   "cell_type": "code",
   "execution_count": 420,
   "id": "73508511-9230-4ea7-a431-bdd62a3e70ba",
   "metadata": {},
   "outputs": [],
   "source": [
    "# Initialize empty lists to store the parsed data\n",
    "fips_codes = []\n",
    "counties = []\n",
    "\n",
    "# Open and read the text file\n",
    "with open('../data/raw/fips.txt', 'r') as file:\n",
    "    for line in file:\n",
    "        # Split the line by whitespace to separate the FIPS code and county name\n",
    "        parts = line.strip().split(maxsplit=1)\n",
    "        if len(parts) == 2:\n",
    "            fips, county = parts\n",
    "            fips_codes.append(fips)\n",
    "            counties.append(county.replace(\" County\", \"\"))\n",
    "\n",
    "# Create a DataFrame from the parsed data\n",
    "fips_df = pd.DataFrame({\n",
    "    'fips': fips_codes,\n",
    "    'county': counties\n",
    "})\n",
    "\n",
    "# Write the DataFrame to a CSV file\n",
    "csv_file_path = '../data/raw/fips.csv'\n",
    "fips_df.to_csv(csv_file_path, index=False)\n",
    "\n",
    "#fips_path = \"../data/raw/fips.csv\"\n",
    "#fips_df = pd.read_csv(fips_path, dtype={\"fips\":str})\n",
    "#fips_df"
   ]
  },
  {
   "cell_type": "code",
   "execution_count": 421,
   "id": "73e55d87-e1f5-4a45-ad8b-3ccea4c666d6",
   "metadata": {},
   "outputs": [
    {
     "data": {
      "text/html": [
       "<div>\n",
       "<style scoped>\n",
       "    .dataframe tbody tr th:only-of-type {\n",
       "        vertical-align: middle;\n",
       "    }\n",
       "\n",
       "    .dataframe tbody tr th {\n",
       "        vertical-align: top;\n",
       "    }\n",
       "\n",
       "    .dataframe thead th {\n",
       "        text-align: right;\n",
       "    }\n",
       "</style>\n",
       "<table border=\"1\" class=\"dataframe\">\n",
       "  <thead>\n",
       "    <tr style=\"text-align: right;\">\n",
       "      <th></th>\n",
       "      <th>county</th>\n",
       "      <th>megalitres_from_great_lakes</th>\n",
       "      <th>megalitres_from_groundwater</th>\n",
       "      <th>megalitres_from_inland_surface</th>\n",
       "      <th>total_megalitres_all_sources</th>\n",
       "      <th>industry</th>\n",
       "      <th>year</th>\n",
       "      <th>megalitres_from_great_lakes_pc</th>\n",
       "      <th>megalitres_from_groundwater_pc</th>\n",
       "      <th>megalitres_from_inland_surface_pc</th>\n",
       "      <th>main_source</th>\n",
       "      <th>fips</th>\n",
       "    </tr>\n",
       "  </thead>\n",
       "  <tbody>\n",
       "    <tr>\n",
       "      <th>0</th>\n",
       "      <td>Alcona</td>\n",
       "      <td>0</td>\n",
       "      <td>0</td>\n",
       "      <td>0</td>\n",
       "      <td>0</td>\n",
       "      <td>Commercial-Institutional</td>\n",
       "      <td>2013</td>\n",
       "      <td>0.0</td>\n",
       "      <td>0.00</td>\n",
       "      <td>0.00</td>\n",
       "      <td>Great Lakes</td>\n",
       "      <td>26001</td>\n",
       "    </tr>\n",
       "    <tr>\n",
       "      <th>1</th>\n",
       "      <td>Alcona</td>\n",
       "      <td>0</td>\n",
       "      <td>645</td>\n",
       "      <td>0</td>\n",
       "      <td>645</td>\n",
       "      <td>Electric Power Generation</td>\n",
       "      <td>2013</td>\n",
       "      <td>0.0</td>\n",
       "      <td>100.00</td>\n",
       "      <td>0.00</td>\n",
       "      <td>Groundwater</td>\n",
       "      <td>26001</td>\n",
       "    </tr>\n",
       "    <tr>\n",
       "      <th>2</th>\n",
       "      <td>Alcona</td>\n",
       "      <td>0</td>\n",
       "      <td>0</td>\n",
       "      <td>0</td>\n",
       "      <td>0</td>\n",
       "      <td>Industrial-Manufacturing</td>\n",
       "      <td>2013</td>\n",
       "      <td>0.0</td>\n",
       "      <td>0.00</td>\n",
       "      <td>0.00</td>\n",
       "      <td>Great Lakes</td>\n",
       "      <td>26001</td>\n",
       "    </tr>\n",
       "    <tr>\n",
       "      <th>3</th>\n",
       "      <td>Alcona</td>\n",
       "      <td>0</td>\n",
       "      <td>122</td>\n",
       "      <td>48</td>\n",
       "      <td>170</td>\n",
       "      <td>Irrigation</td>\n",
       "      <td>2013</td>\n",
       "      <td>0.0</td>\n",
       "      <td>71.76</td>\n",
       "      <td>28.24</td>\n",
       "      <td>Groundwater</td>\n",
       "      <td>26001</td>\n",
       "    </tr>\n",
       "    <tr>\n",
       "      <th>4</th>\n",
       "      <td>Alcona</td>\n",
       "      <td>0</td>\n",
       "      <td>70</td>\n",
       "      <td>981</td>\n",
       "      <td>1051</td>\n",
       "      <td>Livestock</td>\n",
       "      <td>2013</td>\n",
       "      <td>0.0</td>\n",
       "      <td>6.66</td>\n",
       "      <td>93.34</td>\n",
       "      <td>Inland Surface</td>\n",
       "      <td>26001</td>\n",
       "    </tr>\n",
       "  </tbody>\n",
       "</table>\n",
       "</div>"
      ],
      "text/plain": [
       "   county  megalitres_from_great_lakes  megalitres_from_groundwater  \\\n",
       "0  Alcona                            0                            0   \n",
       "1  Alcona                            0                          645   \n",
       "2  Alcona                            0                            0   \n",
       "3  Alcona                            0                          122   \n",
       "4  Alcona                            0                           70   \n",
       "\n",
       "   megalitres_from_inland_surface  total_megalitres_all_sources  \\\n",
       "0                               0                             0   \n",
       "1                               0                           645   \n",
       "2                               0                             0   \n",
       "3                              48                           170   \n",
       "4                             981                          1051   \n",
       "\n",
       "                    industry  year  megalitres_from_great_lakes_pc  \\\n",
       "0   Commercial-Institutional  2013                             0.0   \n",
       "1  Electric Power Generation  2013                             0.0   \n",
       "2   Industrial-Manufacturing  2013                             0.0   \n",
       "3                 Irrigation  2013                             0.0   \n",
       "4                  Livestock  2013                             0.0   \n",
       "\n",
       "   megalitres_from_groundwater_pc  megalitres_from_inland_surface_pc  \\\n",
       "0                            0.00                               0.00   \n",
       "1                          100.00                               0.00   \n",
       "2                            0.00                               0.00   \n",
       "3                           71.76                              28.24   \n",
       "4                            6.66                              93.34   \n",
       "\n",
       "      main_source   fips  \n",
       "0     Great Lakes  26001  \n",
       "1     Groundwater  26001  \n",
       "2     Great Lakes  26001  \n",
       "3     Groundwater  26001  \n",
       "4  Inland Surface  26001  "
      ]
     },
     "execution_count": 421,
     "metadata": {},
     "output_type": "execute_result"
    }
   ],
   "source": [
    "gallon_cols = [\"gallons_from_great_lakes\", \"gallons_from_groundwater\", \"gallons_from_inland_surface\", \"total_gallons_all_sources\"]\n",
    "numerator_cols = [\"megalitres_from_great_lakes\", \"megalitres_from_groundwater\", \"megalitres_from_inland_surface\"]\n",
    "denominator_col = \"total_megalitres_all_sources\"\n",
    "\n",
    "df_cleaned = cleaning_function(df, gallon_cols)\n",
    "df_final = add_new_cols(df_cleaned, numerator_cols, denominator_col)\n",
    "df_final = df_final.sort_values([\"year\", \"county\", \"industry\"])\n",
    "df_final[\"county\"] = df_final.county.apply(lambda x: \"Saint Clair\" if x == \"St Clair\" else \"Saint Joseph\" if x == \"St Joseph\" else x)\n",
    "df_final = df_final.merge(fips_df, how=\"left\", on=\"county\")\n",
    "\n",
    "df_final.head()"
   ]
  },
  {
   "cell_type": "code",
   "execution_count": 422,
   "id": "b2fc6df0-3ddc-4283-bc14-9a28dd80b5b2",
   "metadata": {},
   "outputs": [
    {
     "data": {
      "text/plain": [
       "county                               0\n",
       "megalitres_from_great_lakes          0\n",
       "megalitres_from_groundwater          0\n",
       "megalitres_from_inland_surface       0\n",
       "total_megalitres_all_sources         0\n",
       "industry                             0\n",
       "year                                 0\n",
       "megalitres_from_great_lakes_pc       0\n",
       "megalitres_from_groundwater_pc       0\n",
       "megalitres_from_inland_surface_pc    0\n",
       "main_source                          0\n",
       "fips                                 0\n",
       "dtype: int64"
      ]
     },
     "execution_count": 422,
     "metadata": {},
     "output_type": "execute_result"
    }
   ],
   "source": [
    "df_final.isna().sum()"
   ]
  },
  {
   "cell_type": "code",
   "execution_count": 423,
   "id": "ef0ab8cf-27b7-402b-b979-e747b8ce3a91",
   "metadata": {},
   "outputs": [
    {
     "data": {
      "text/plain": [
       "(6630, 12)"
      ]
     },
     "execution_count": 423,
     "metadata": {},
     "output_type": "execute_result"
    }
   ],
   "source": [
    "df_final.shape"
   ]
  },
  {
   "cell_type": "code",
   "execution_count": 424,
   "id": "864e6aa1-89c1-43a8-a3c0-685412d0510c",
   "metadata": {},
   "outputs": [],
   "source": [
    "df_final.to_csv(\"../data/clean/water_usage.csv\", index=False)"
   ]
  }
 ],
 "metadata": {
  "kernelspec": {
   "display_name": "water-usage-venv",
   "language": "python",
   "name": "water-usage-venv"
  },
  "language_info": {
   "codemirror_mode": {
    "name": "ipython",
    "version": 3
   },
   "file_extension": ".py",
   "mimetype": "text/x-python",
   "name": "python",
   "nbconvert_exporter": "python",
   "pygments_lexer": "ipython3",
   "version": "3.9.6"
  }
 },
 "nbformat": 4,
 "nbformat_minor": 5
}
